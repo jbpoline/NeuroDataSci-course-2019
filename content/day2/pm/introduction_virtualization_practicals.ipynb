{
 "cells": [
  {
   "cell_type": "markdown",
   "metadata": {},
   "source": [
    "## &nbsp;&nbsp;&nbsp;&nbsp;&nbsp;&nbsp;&nbsp;&nbsp;&nbsp;&nbsp;&nbsp;&nbsp;&nbsp;Increasing re-usability/executability and reproducibility through virtualization </br>\n",
    "### &nbsp;&nbsp;&nbsp;&nbsp;&nbsp;&nbsp;&nbsp;&nbsp;&nbsp;&nbsp;&nbsp;&nbsp;&nbsp;&nbsp;&nbsp;&nbsp;&nbsp;&nbsp;&nbsp;&nbsp;&nbsp;&nbsp;&nbsp;&nbsp;&nbsp;&nbsp;&nbsp; - a walk-through example from virtual environments to docker and singularity"
   ]
  },
  {
   "cell_type": "markdown",
   "metadata": {},
   "source": [
    "*Please note that this is `Jupyter Notebook` using the [bash kernel](https://github.com/takluyver/bash_kernel) to demonstrate the content of this tutorial. The outputs and the way they appear will differ when running the commands in a `shell` and based on the OS.*"
   ]
  },
  {
   "cell_type": "markdown",
   "metadata": {},
   "source": [
    "Imagine you want to run a DTI analysis on a dataset you recently acquired or re-analyze an open dataset (more on that in the next few days). One amazing and comprehensive python package that can help you with that is [DIPY](https://nipy.org/dipy/). While going through [DIPY](https://nipy.org/dipy/)'s great and extensively documented example gallery, you find just the functionality you're interested in: [fiber tracking](http://nipy.org/dipy/examples_built/introduction_to_basic_tracking.html). After downloading the script, you're excited to run it using an example dataset to grasp a basic idea of how it works to later on adapt to your dataset:"
   ]
  },
  {
   "cell_type": "code",
   "execution_count": 1,
   "metadata": {},
   "outputs": [
    {
     "name": "stdout",
     "output_type": "stream",
     "text": [
      "Traceback (most recent call last):\n",
      "  File \"introduction_to_basic_tracking.py\", line 30, in <module>\n",
      "    from dipy.data import read_stanford_labels\n",
      "ModuleNotFoundError: No module named 'dipy'\n"
     ]
    },
    {
     "ename": "",
     "evalue": "1",
     "output_type": "error",
     "traceback": []
    }
   ],
   "source": [
    "python introduction_to_basic_tracking.py"
   ]
  },
  {
   "cell_type": "markdown",
   "metadata": {},
   "source": [
    "Depending on your setup at hand, you'll most likely receive an error message that can range from \"not having DIPY installed\" to \"missing certain sub-functionality\". As is this obviously sub-optimal, you want to resolve and fix whatever goes wrong here. But before you start, you should think about certain ways to approach this problem in order to make your solution and hopefully resulting code and analyses more re-usable/executable and reproducible in order to save your future self, lab colleagues that are working on similar topics or basically everyone out there that is potentially interested a lot of time and effort, as well as enable a form of \"long term maintenance\" helping to further improve (neuro)science. One, if not the perfect way to do this is \"[virtualization](https://en.wikipedia.org/wiki/Virtualization)\". So let's try how this can be achieved for our example."
   ]
  },
  {
   "cell_type": "markdown",
   "metadata": {},
   "source": [
    "As briefly introduced before, we have quite some levels of possible virtualization:\n",
    "\n",
    "<img src=\"https://raw.githubusercontent.com/goanpeca/pyday-cali-2019/master/img_source/isolation.png\"\n",
    "     alt=\"virtualization layers\"\n",
    "     style=\"float: left; margin-right: 2px;\" width=600; height=800  />"
   ]
  },
  {
   "cell_type": "markdown",
   "metadata": {},
   "source": [
    "Based on that, our first option, having the least amount of virtualization, is to create a virtual python environment using either [virtuelenv](https://virtualenv.pypa.io/en/latest/) or [venv](https://docs.python.org/3/library/venv.html). The difference between both is that the former supports python 2.* and 3.* , while the latter supports only 3.6 and upwards. As python 2.* will retire in 2020, let's use [venv](https://docs.python.org/3/library/venv.html)."
   ]
  },
  {
   "cell_type": "markdown",
   "metadata": {},
   "source": [
    "### Virtualiuation using python environments - venv"
   ]
  },
  {
   "cell_type": "markdown",
   "metadata": {},
   "source": [
    "*This part heavily relies on a [virtual environment tutorial from www.realpython.com](https://realpython.com/python-virtual-environments-a-primer/).*"
   ]
  },
  {
   "cell_type": "markdown",
   "metadata": {},
   "source": [
    "At first we have to create a new python environment by using `venv` the commandline, providing it with a name. The respective syntax is: `python -m venv *name*`, where `*name*` is the name of your new python environment. You can use almost every character and name, but it is definitely a good idea to provide a meaningful name:  "
   ]
  },
  {
   "cell_type": "code",
   "execution_count": 2,
   "metadata": {},
   "outputs": [],
   "source": [
    "python -m venv dipy_tracks"
   ]
  },
  {
   "cell_type": "markdown",
   "metadata": {},
   "source": [
    "By default no output will be given, so how can we check we happened? Just type `ls`. "
   ]
  },
  {
   "cell_type": "code",
   "execution_count": 3,
   "metadata": {},
   "outputs": [
    {
     "name": "stdout",
     "output_type": "stream",
     "text": [
      "\u001b[0m\u001b[01;34mdipy_tracks\u001b[0m                        introduction_virtualization_practicals.ipynb\n",
      "introduction_to_basic_tracking.py\n"
     ]
    }
   ],
   "source": [
    "ls"
   ]
  },
  {
   "cell_type": "markdown",
   "metadata": {},
   "source": [
    "As you can see, a new directory named as our environment was created. Let's check what's inside:"
   ]
  },
  {
   "cell_type": "code",
   "execution_count": 4,
   "metadata": {},
   "outputs": [
    {
     "name": "stdout",
     "output_type": "stream",
     "text": [
      "\u001b[0m\u001b[01;34mbin\u001b[0m  \u001b[01;34minclude\u001b[0m  \u001b[01;34mlib\u001b[0m  \u001b[01;36mlib64\u001b[0m  pyvenv.cfg\n"
     ]
    }
   ],
   "source": [
    "ls dipy_tracks"
   ]
  },
  {
   "cell_type": "markdown",
   "metadata": {},
   "source": [
    "We have `bin`, `include` and `lib`. Here's what they include: </br>\n",
    "\n",
    "- `bin` : files that interact with the virtual environment\n",
    "- `include` : C headers that compile the Python packages\n",
    "- `lib` : a copy of the Python version along with a site-packages folder where each dependency is installed"
   ]
  },
  {
   "cell_type": "markdown",
   "metadata": {},
   "source": [
    "But how can we work with this newly created python environment? At first, we have to `activate` it, by utilizing the `activate.sh` script in `bin`:"
   ]
  },
  {
   "cell_type": "code",
   "execution_count": 5,
   "metadata": {},
   "outputs": [
    {
     "name": "stdout",
     "output_type": "stream",
     "text": [
      "(dipy_tracks) "
     ]
    },
    {
     "ename": "",
     "evalue": "1",
     "output_type": "error",
     "traceback": []
    }
   ],
   "source": [
    "source dipy_tracks/bin/activate"
   ]
  },
  {
   "cell_type": "markdown",
   "metadata": {},
   "source": [
    "We're now in our newly created python environment and can use its resources. The change of environment is indicated through the display of its name left to the command prompt (only visible in the `shell`)."
   ]
  },
  {
   "cell_type": "markdown",
   "metadata": {},
   "source": [
    "Using `deactivate` we (you guessed right) `deactivate` or \"leave\" our environment again."
   ]
  },
  {
   "cell_type": "code",
   "execution_count": 6,
   "metadata": {},
   "outputs": [],
   "source": [
    "deactivate"
   ]
  },
  {
   "cell_type": "markdown",
   "metadata": {},
   "source": [
    "Now that we have that, let's try to run our example again, after activating our environment."
   ]
  },
  {
   "cell_type": "code",
   "execution_count": 7,
   "metadata": {},
   "outputs": [
    {
     "name": "stdout",
     "output_type": "stream",
     "text": [
      "(dipy_tracks) "
     ]
    },
    {
     "ename": "",
     "evalue": "1",
     "output_type": "error",
     "traceback": []
    }
   ],
   "source": [
    "source dipy_tracks/bin/activate"
   ]
  },
  {
   "cell_type": "code",
   "execution_count": 8,
   "metadata": {},
   "outputs": [
    {
     "name": "stdout",
     "output_type": "stream",
     "text": [
      "Traceback (most recent call last):\n",
      "  File \"introduction_to_basic_tracking.py\", line 30, in <module>\n",
      "    from dipy.data import read_stanford_labels\n",
      "ModuleNotFoundError: No module named 'dipy'\n",
      "(dipy_tracks) "
     ]
    },
    {
     "ename": "",
     "evalue": "1",
     "output_type": "error",
     "traceback": []
    }
   ],
   "source": [
    "python introduction_to_basic_tracking.py"
   ]
  },
  {
   "cell_type": "markdown",
   "metadata": {},
   "source": [
    "Most likely, you'll receive the error message \"ModuleNotFoundError: No module named 'dipy'\". But why is that? The reason is fairly simple: when creating virtual environments your already installed packages are not automatically included, but most be installed again in the new environment. Every python environment you have on your machine is its own entity in the sense that the binaries, libraries, etc. are not shared between environments and which python environment is used to execute a certain functionality is set by the `$PATH` variable in your `bash profile` or manually by you, activating it. Let's investigate that a bit more."
   ]
  },
  {
   "cell_type": "markdown",
   "metadata": {},
   "source": [
    "You can check which python environment is currently set by running `which python` from within your `shell`."
   ]
  },
  {
   "cell_type": "code",
   "execution_count": 9,
   "metadata": {},
   "outputs": [
    {
     "name": "stdout",
     "output_type": "stream",
     "text": [
      "/home/venv_tutorial/test/content/day2/pm/dipy_tracks/bin/python\n",
      "(dipy_tracks) "
     ]
    },
    {
     "ename": "",
     "evalue": "1",
     "output_type": "error",
     "traceback": []
    }
   ],
   "source": [
    "which python"
   ]
  },
  {
   "cell_type": "markdown",
   "metadata": {},
   "source": [
    "You should see that the environment that is currently running is the one we just created. Now let's deactivate it and try again."
   ]
  },
  {
   "cell_type": "code",
   "execution_count": 10,
   "metadata": {},
   "outputs": [],
   "source": [
    "deactivate"
   ]
  },
  {
   "cell_type": "code",
   "execution_count": 11,
   "metadata": {},
   "outputs": [
    {
     "name": "stdout",
     "output_type": "stream",
     "text": [
      "/opt/miniconda-latest/envs/venv_tutorial/bin/python\n"
     ]
    }
   ],
   "source": [
    "which python"
   ]
  },
  {
   "cell_type": "markdown",
   "metadata": {},
   "source": [
    "You should now see the environment that is running as default on your system. Let's investigate `$PATH` to further grasp what's going on."
   ]
  },
  {
   "cell_type": "code",
   "execution_count": 12,
   "metadata": {},
   "outputs": [
    {
     "name": "stdout",
     "output_type": "stream",
     "text": [
      "/opt/miniconda-latest/envs/venv_tutorial/bin:/opt/miniconda-latest/condabin:/opt/miniconda-latest/bin:/usr/local/sbin:/usr/local/bin:/usr/sbin:/usr/bin:/sbin:/bin\n"
     ]
    }
   ],
   "source": [
    "echo $PATH"
   ]
  },
  {
   "cell_type": "markdown",
   "metadata": {},
   "source": [
    "And now from within our new environment:"
   ]
  },
  {
   "cell_type": "code",
   "execution_count": 13,
   "metadata": {},
   "outputs": [
    {
     "name": "stdout",
     "output_type": "stream",
     "text": [
      "(dipy_tracks) /home/venv_tutorial/test/content/day2/pm/dipy_tracks/bin:/opt/miniconda-latest/envs/venv_tutorial/bin:/opt/miniconda-latest/condabin:/opt/miniconda-latest/bin:/usr/local/sbin:/usr/local/bin:/usr/sbin:/usr/bin:/sbin:/bin\n",
      "(dipy_tracks) "
     ]
    },
    {
     "ename": "",
     "evalue": "1",
     "output_type": "error",
     "traceback": []
    }
   ],
   "source": [
    "source dipy_tracks/bin/activate\n",
    "echo $PATH"
   ]
  },
  {
   "cell_type": "markdown",
   "metadata": {},
   "source": [
    "As you can see, the first instance of `$PATH` is our newly created python environment. Therefore, for everything that will be run from the `command line` the first path within which the search of an executable will take place is that environment and not your default one. That means that everything will be executed through/within that environment based on its resources."
   ]
  },
  {
   "cell_type": "markdown",
   "metadata": {},
   "source": [
    "While this is at the core of `virtualization` it also requires you to pay close attention to what and how you're executing functions, scripts, etc. . That being said, we should populate our so far rather empty environment with, foremost, DIPY."
   ]
  },
  {
   "cell_type": "code",
   "execution_count": 14,
   "metadata": {},
   "outputs": [
    {
     "name": "stdout",
     "output_type": "stream",
     "text": [
      "Collecting dipy\n",
      "\u001b[?25l  Downloading https://files.pythonhosted.org/packages/55/3f/3d99c1b5066e05a8f26f5361aadcf2c42fa86590461ddf37be4c76187883/dipy-0.16.0-cp36-cp36m-manylinux1_x86_64.whl (7.9MB)\n",
      "\u001b[K    100% |████████████████████████████████| 7.9MB 1.3MB/s ta 0:00:011\n",
      "\u001b[?25hCollecting h5py>=2.4.0 (from dipy)\n",
      "\u001b[?25l  Downloading https://files.pythonhosted.org/packages/30/99/d7d4fbf2d02bb30fb76179911a250074b55b852d34e98dd452a9f394ac06/h5py-2.9.0-cp36-cp36m-manylinux1_x86_64.whl (2.8MB)\n",
      "\u001b[K    100% |████████████████████████████████| 2.8MB 2.3MB/s ta 0:00:01\n",
      "\u001b[?25hCollecting nibabel>=2.3.0 (from dipy)\n",
      "\u001b[?25l  Downloading https://files.pythonhosted.org/packages/6e/af/3be194425fb56a6f2152849051e038b6fc502e7cb7b65649ceb74d3e8166/nibabel-2.5.0-py3-none-any.whl (3.3MB)\n",
      "\u001b[K    100% |████████████████████████████████| 3.3MB 3.0MB/s ta 0:00:01\n",
      "\u001b[?25hCollecting scipy>=0.9 (from dipy)\n",
      "\u001b[?25l  Downloading https://files.pythonhosted.org/packages/72/4c/5f81e7264b0a7a8bd570810f48cd346ba36faedbd2ba255c873ad556de76/scipy-1.3.0-cp36-cp36m-manylinux1_x86_64.whl (25.2MB)\n",
      "\u001b[K    100% |████████████████████████████████| 25.2MB 522kB/s ta 0:00:011\n",
      "\u001b[?25hCollecting numpy>=1.7 (from h5py>=2.4.0->dipy)\n",
      "\u001b[?25l  Downloading https://files.pythonhosted.org/packages/19/b9/bda9781f0a74b90ebd2e046fde1196182900bd4a8e1ea503d3ffebc50e7c/numpy-1.17.0-cp36-cp36m-manylinux1_x86_64.whl (20.4MB)\n",
      "\u001b[K    100% |████████████████████████████████| 20.4MB 1.4MB/s ta 0:00:011\n",
      "\u001b[?25hCollecting six (from h5py>=2.4.0->dipy)\n",
      "  Downloading https://files.pythonhosted.org/packages/73/fb/00a976f728d0d1fecfe898238ce23f502a721c0ac0ecfedb80e0d88c64e9/six-1.12.0-py2.py3-none-any.whl\n",
      "Installing collected packages: numpy, six, h5py, nibabel, scipy, dipy\n",
      "Successfully installed dipy-0.16.0 h5py-2.9.0 nibabel-2.5.0 numpy-1.17.0 scipy-1.3.0 six-1.12.0\n",
      "\u001b[33mYou are using pip version 10.0.1, however version 19.2.1 is available.\n",
      "You should consider upgrading via the 'pip install --upgrade pip' command.\u001b[0m\n",
      "(dipy_tracks) "
     ]
    },
    {
     "ename": "",
     "evalue": "1",
     "output_type": "error",
     "traceback": []
    }
   ],
   "source": [
    "pip install dipy"
   ]
  },
  {
   "cell_type": "markdown",
   "metadata": {},
   "source": [
    "As you can see, using `pip install dipy` not only downloaded and installed DIPY, but also all its dependencies. This is because most python libraries contain a `requirements.txt` where necessary dependencies are listed. The one of DIPY looks like [this](https://github.com/nipy/dipy/blob/master/requirements.txt) and includes all the packages we just downloaded and installed. This handy functionality is possible through `pip` being a `package manager`. A thus also included functionality is the easy investigation of our environment, for example which packages are installed: "
   ]
  },
  {
   "cell_type": "code",
   "execution_count": 15,
   "metadata": {},
   "outputs": [
    {
     "name": "stdout",
     "output_type": "stream",
     "text": [
      "dipy==0.16.0\n",
      "h5py==2.9.0\n",
      "nibabel==2.5.0\n",
      "numpy==1.17.0\n",
      "scipy==1.3.0\n",
      "six==1.12.0\n",
      "\u001b[33mYou are using pip version 10.0.1, however version 19.2.1 is available.\n",
      "You should consider upgrading via the 'pip install --upgrade pip' command.\u001b[0m\n",
      "(dipy_tracks) "
     ]
    },
    {
     "ename": "",
     "evalue": "1",
     "output_type": "error",
     "traceback": []
    }
   ],
   "source": [
    "pip freeze"
   ]
  },
  {
   "cell_type": "markdown",
   "metadata": {},
   "source": [
    "Furthermore we can also save the output of `pip freeze` to create our own `requirements.txt` which you then can share with however is interested in running your scripts and analyses using the same python libraries with the identical version. This is `virtualization` of python environments. "
   ]
  },
  {
   "cell_type": "code",
   "execution_count": 16,
   "metadata": {},
   "outputs": [
    {
     "name": "stdout",
     "output_type": "stream",
     "text": [
      "\u001b[33mYou are using pip version 10.0.1, however version 19.2.1 is available.\n",
      "You should consider upgrading via the 'pip install --upgrade pip' command.\u001b[0m\n",
      "(dipy_tracks) dipy==0.16.0\n",
      "h5py==2.9.0\n",
      "nibabel==2.5.0\n",
      "numpy==1.17.0\n",
      "scipy==1.3.0\n",
      "six==1.12.0\n",
      "(dipy_tracks) "
     ]
    },
    {
     "ename": "",
     "evalue": "1",
     "output_type": "error",
     "traceback": []
    }
   ],
   "source": [
    "pip freeze > requirements.txt\n",
    "cat requirements.txt"
   ]
  },
  {
   "cell_type": "markdown",
   "metadata": {},
   "source": [
    "But before we do share our environment, we should ensure that everything is working as expected:"
   ]
  },
  {
   "cell_type": "code",
   "execution_count": 17,
   "metadata": {},
   "outputs": [
    {
     "name": "stdout",
     "output_type": "stream",
     "text": [
      "Creating new folder /home/venv_tutorial/.dipy/stanford_hardi\n",
      "Downloading \"HARDI150.nii.gz\" to /home/venv_tutorial/.dipy/stanford_hardi\n",
      "Download Progress: [##################################] 100.00%  of 87.15 MBDownloading \"HARDI150.bval\" to /home/venv_tutorial/.dipy/stanford_hardi\n",
      "Download Progress: [##################################] 100.00%  of 0.00 MBDownloading \"HARDI150.bvec\" to /home/venv_tutorial/.dipy/stanford_hardi\n",
      "Download Progress: [##################################] 100.00%  of 0.00 MBFiles successfully downloaded to /home/venv_tutorial/.dipy/stanford_hardi\n",
      "Dataset is already in place. If you want to fetch it again please first remove the folder /home/venv_tutorial/.dipy/stanford_hardi \n",
      "Downloading \"aparc-reduced.nii.gz\" to /home/venv_tutorial/.dipy/stanford_hardi\n",
      "Download Progress: [##################################] 100.00%  of 0.06 MBDownloading \"label_info.txt\" to /home/venv_tutorial/.dipy/stanford_hardi\n",
      "Download Progress: [##################################] 100.00%  of 0.00 MBFiles successfully downloaded to /home/venv_tutorial/.dipy/stanford_hardi\n",
      "Traceback (most recent call last):\n",
      "  File \"introduction_to_basic_tracking.py\", line 98, in <module>\n",
      "    from dipy.viz import window, actor, colormap as cmap, have_fury\n",
      "ImportError: cannot import name 'window'\n",
      "(dipy_tracks) "
     ]
    },
    {
     "ename": "",
     "evalue": "1",
     "output_type": "error",
     "traceback": []
    }
   ],
   "source": [
    "python introduction_to_basic_tracking.py"
   ]
  },
  {
   "cell_type": "markdown",
   "metadata": {},
   "source": [
    "\"Luckily\" we run into the same error as before in our default python environment. Now we can work on resolving this error and thus create an environment that is rather specifically than sharing our own most likely large default python environment with lots of libraries that are not necessary."
   ]
  },
  {
   "cell_type": "markdown",
   "metadata": {},
   "source": [
    "Most python packages have very useful error message like the one we're receiving. Paying a bit more attention, we see that something is missing and after a short google (or any other search engine) session, we know that the `fury` package is missing. By now, we know what to do:"
   ]
  },
  {
   "cell_type": "code",
   "execution_count": 18,
   "metadata": {},
   "outputs": [
    {
     "name": "stdout",
     "output_type": "stream",
     "text": [
      "Collecting fury\n",
      "\u001b[?25l  Downloading https://files.pythonhosted.org/packages/65/28/14fe94c26e947f650222f076f57b607148cbf0bb2c303324ce13a8b87bdc/fury-0.3.0-py3-none-any.whl (147kB)\n",
      "\u001b[K    100% |████████████████████████████████| 153kB 3.0MB/s ta 0:00:01\n",
      "\u001b[?25hRequirement already satisfied: scipy>=0.9 in ./dipy_tracks/lib/python3.6/site-packages (from fury) (1.3.0)\n",
      "Collecting vtk>=8.1.0 (from fury)\n",
      "\u001b[?25l  Downloading https://files.pythonhosted.org/packages/22/f5/30e11e1ad21701e1cd185b046979107930419a74a5602c6b899dc8523fe4/vtk-8.1.2-cp36-cp36m-manylinux1_x86_64.whl (48.9MB)\n",
      "\u001b[K    100% |████████████████████████████████| 48.9MB 445kB/s ta 0:00:011\n",
      "\u001b[?25hRequirement already satisfied: numpy>=1.7.1 in ./dipy_tracks/lib/python3.6/site-packages (from fury) (1.17.0)\n",
      "Installing collected packages: vtk, fury\n",
      "Successfully installed fury-0.3.0 vtk-8.1.2\n",
      "\u001b[33mYou are using pip version 10.0.1, however version 19.2.1 is available.\n",
      "You should consider upgrading via the 'pip install --upgrade pip' command.\u001b[0m\n",
      "(dipy_tracks) "
     ]
    },
    {
     "ename": "",
     "evalue": "1",
     "output_type": "error",
     "traceback": []
    }
   ],
   "source": [
    "pip install fury"
   ]
  },
  {
   "cell_type": "markdown",
   "metadata": {},
   "source": [
    "As you can see, `vtk` was installed as a dependency of `fury`. So far so good, let's try the example again."
   ]
  },
  {
   "cell_type": "code",
   "execution_count": 19,
   "metadata": {},
   "outputs": [
    {
     "name": "stdout",
     "output_type": "stream",
     "text": [
      "Dataset is already in place. If you want to fetch it again please first remove the folder /home/venv_tutorial/.dipy/stanford_hardi \n",
      "Dataset is already in place. If you want to fetch it again please first remove the folder /home/venv_tutorial/.dipy/stanford_hardi \n",
      "Dataset is already in place. If you want to fetch it again please first remove the folder /home/venv_tutorial/.dipy/stanford_hardi \n",
      "Traceback (most recent call last):\n",
      "  File \"/home/venv_tutorial/test/content/day2/pm/dipy_tracks/lib/python3.6/site-packages/vtk/vtkOpenGLKit.py\", line 5, in <module>\n",
      "    from .vtkOpenGLKitPython import *\n",
      "ImportError: libSM.so.6: cannot open shared object file: No such file or directory\n",
      "\n",
      "During handling of the above exception, another exception occurred:\n",
      "\n",
      "Traceback (most recent call last):\n",
      "  File \"introduction_to_basic_tracking.py\", line 98, in <module>\n",
      "    from dipy.viz import window, actor, colormap as cmap, have_fury\n",
      "  File \"/home/venv_tutorial/test/content/day2/pm/dipy_tracks/lib/python3.6/site-packages/dipy/viz/__init__.py\", line 11, in <module>\n",
      "    from fury import actor, window, colormap, interactor, ui, utils\n",
      "  File \"/home/venv_tutorial/test/content/day2/pm/dipy_tracks/lib/python3.6/site-packages/fury/actor.py\", line 4, in <module>\n",
      "    import vtk\n",
      "  File \"/home/venv_tutorial/test/content/day2/pm/dipy_tracks/lib/python3.6/site-packages/vtk/__init__.py\", line 12, in <module>\n",
      "    from .vtkOpenGLKit import *\n",
      "  File \"/home/venv_tutorial/test/content/day2/pm/dipy_tracks/lib/python3.6/site-packages/vtk/vtkOpenGLKit.py\", line 9, in <module>\n",
      "    from vtkOpenGLKitPython import *\n",
      "ModuleNotFoundError: No module named 'vtkOpenGLKitPython'\n",
      "(dipy_tracks) "
     ]
    },
    {
     "ename": "",
     "evalue": "1",
     "output_type": "error",
     "traceback": []
    }
   ],
   "source": [
    "python introduction_to_basic_tracking.py"
   ]
  },
  {
   "cell_type": "markdown",
   "metadata": {},
   "source": [
    "As this tutorial was put together in such a way to stress the many possibilities of errors and problems, thus the importance of virtualization, it will be divided from no one, based on the output you received above (I'm truly sorry, but we can't estimate the setup of all participants). If the above command worked for you, please continue below, if not, please go to the section [Virtualization using python environments - conda](#virtualization_conda)."
   ]
  },
  {
   "cell_type": "markdown",
   "metadata": {},
   "source": [
    "If you see the error: `dipy_tracks/lib/python3.6/site-packages/fury/colormap.py:229: RuntimeWarning: invalid value encountered in true_divide orient = np.abs(orient / np.linalg.norm(orient))` don't worry for now, as it's a `warning`, not an `error` and our example script completely successfully (*Please note that you should of course investigate any warning when working on real scripts and analyses*). If we check our `pwd` we see four new files: two `.trk` and two graphics in `.png` format."
   ]
  },
  {
   "cell_type": "markdown",
   "metadata": {},
   "source": [
    "As we've seen, the script also allows to enable an interactive view. Let's check if that's working as well."
   ]
  },
  {
   "cell_type": "code",
   "execution_count": 28,
   "metadata": {},
   "outputs": [
    {
     "name": "stdout",
     "output_type": "stream",
     "text": [
      "Dataset is already in place. If you want to fetch it again please first remove the folder /Users/peerherholz/.dipy/stanford_hardi \n",
      "Dataset is already in place. If you want to fetch it again please first remove the folder /Users/peerherholz/.dipy/stanford_hardi \n",
      "Dataset is already in place. If you want to fetch it again please first remove the folder /Users/peerherholz/.dipy/stanford_hardi \n",
      "/Users/peerherholz/google_drive/GitHub/NeuroDataSci-course-2019/content/day2/pm/dipy_tracks/lib/python3.6/site-packages/fury/colormap.py:229: RuntimeWarning: invalid value encountered in true_divide\n",
      "  orient = np.abs(orient / np.linalg.norm(orient))\n",
      "Terminated: 15\n",
      "(dipy_tracks) "
     ]
    },
    {
     "ename": "",
     "evalue": "1",
     "output_type": "error",
     "traceback": []
    }
   ],
   "source": [
    "python introduction_to_basic_tracking.py"
   ]
  },
  {
   "cell_type": "markdown",
   "metadata": {},
   "source": [
    "Now that we've everything necessary in place, we can update our `requirements.txt` and share it:"
   ]
  },
  {
   "cell_type": "code",
   "execution_count": 29,
   "metadata": {},
   "outputs": [
    {
     "name": "stdout",
     "output_type": "stream",
     "text": [
      "\u001b[33mYou are using pip version 10.0.1, however version 19.2.1 is available.\n",
      "You should consider upgrading via the 'pip install --upgrade pip' command.\u001b[0m\n",
      "(dipy_tracks) dipy==0.16.0\n",
      "fury==0.2.0\n",
      "h5py==2.9.0\n",
      "nibabel==2.4.1\n",
      "numpy==1.17.0\n",
      "scipy==1.3.0\n",
      "six==1.12.0\n",
      "vtk==8.1.2\n",
      "(dipy_tracks) "
     ]
    },
    {
     "ename": "",
     "evalue": "1",
     "output_type": "error",
     "traceback": []
    }
   ],
   "source": [
    "pip freeze > requirements.txt\n",
    "cat requirements.txt"
   ]
  },
  {
   "cell_type": "markdown",
   "metadata": {},
   "source": [
    "<a id='virtualization_conda'></a>\n",
    "### Virtualization using python environments - conda"
   ]
  },
  {
   "cell_type": "markdown",
   "metadata": {},
   "source": [
    "If the last run of the example resulted in the something along the following lines for you, this means there is more work to do, work that goes a bit deeper: \n",
    "`from .vtkOpenGLKitPython import *\n",
    "ImportError: libSM.so.6: cannot open shared object file: No such file or directory``\n",
    "`ModuleNotFoundError: No module named 'vtkOpenGLKitPython'`"
   ]
  },
  {
   "cell_type": "markdown",
   "metadata": {},
   "source": [
    "Even though we seemingly installed all necessary dependencies based on the script and the previous output, we still receive an error related to some missing resources. One thing we could try now, is to use a different virtualization method and python package manager. One that became well known and heavily used within the last few years is [conda](https://docs.conda.io/en/latest/). While before we used `venv` to create our virtual environment and `pip` as a package manager, we can use `conda` for both as it combines the respective functionality. Recreating our virtual environment from before is made very easy and straightforward through `conda`, with the general syntax being: `conda create -n *name* *python_version* *libraries*`, where `*name*` is the name of your virtual environment, `*python_version*` the python version you want to use and `*libraries*` the libraries you want to install. Adapted to our example, this looks as follows: "
   ]
  },
  {
   "cell_type": "code",
   "execution_count": 20,
   "metadata": {},
   "outputs": [
    {
     "name": "stdout",
     "output_type": "stream",
     "text": [
      "Collecting package metadata (current_repodata.json): done\n",
      "Solving environment: done\n",
      "\n",
      "## Package Plan ##\n",
      "\n",
      "  environment location: /opt/miniconda-latest/envs/dipy_tracks\n",
      "\n",
      "  added / updated specs:\n",
      "    - dipy\n",
      "    - python=3.6\n",
      "\n",
      "\n",
      "The following packages will be downloaded:\n",
      "\n",
      "    package                    |            build\n",
      "    ---------------------------|-----------------\n",
      "    _libgcc_mutex-0.1          |             main           3 KB  defaults\n",
      "    blosc-1.17.0               |       he1b5a44_0         861 KB  conda-forge\n",
      "    bz2file-0.98               |             py_0           9 KB  conda-forge\n",
      "    bzip2-1.0.8                |       h516909a_0         396 KB  conda-forge\n",
      "    cvxopt-1.2.3               | py36h915cfec_202         536 KB  conda-forge\n",
      "    dipy-0.16.0                |   py36h3010b51_0         7.1 MB  conda-forge\n",
      "    dsdp-5.8                   |    h23d7751_1203         236 KB  conda-forge\n",
      "    fftw-3.3.8                 |nompi_h7f3a6c3_1106         5.8 MB  conda-forge\n",
      "    glpk-4.65                  |    ha14ba45_1001         1.2 MB  conda-forge\n",
      "    gmp-6.1.2                  |    hf484d3e_1000         751 KB  conda-forge\n",
      "    gsl-2.5                    |       h294904e_0         2.7 MB  conda-forge\n",
      "    h5py-2.9.0                 |nompi_py36hcafd542_1103         1.2 MB  conda-forge\n",
      "    hdf5-1.10.4                |nompi_h3c11f04_1106         5.3 MB  conda-forge\n",
      "    libblas-3.8.0              |      11_openblas          10 KB  conda-forge\n",
      "    libcblas-3.8.0             |      11_openblas          10 KB  conda-forge\n",
      "    liblapack-3.8.0            |      11_openblas          10 KB  conda-forge\n",
      "    lzo-2.10                   |    h14c3975_1000         319 KB  conda-forge\n",
      "    matplotlib-3.1.1           |           py36_1           6 KB  conda-forge\n",
      "    metis-5.1.0                |    hf484d3e_1003         4.1 MB  conda-forge\n",
      "    mock-3.0.5                 |           py36_0          44 KB  conda-forge\n",
      "    nibabel-2.4.1              |             py_0         2.7 MB  conda-forge\n",
      "    numexpr-2.6.9              |py36h637b7d7_1000         194 KB  conda-forge\n",
      "    pthread-stubs-0.4          |    h14c3975_1001           5 KB  conda-forge\n",
      "    pydicom-1.3.0              |             py_0         5.3 MB  conda-forge\n",
      "    pytables-3.5.2             |   py36ha1aa75f_0         1.5 MB  conda-forge\n",
      "    suitesparse-4.5.6          |    heab0a99_1202         2.4 MB  conda-forge\n",
      "    tbb-2019.7                 |       hc9558a2_0         1.4 MB  conda-forge\n",
      "    ------------------------------------------------------------\n",
      "                                           Total:        44.0 MB\n",
      "\n",
      "The following NEW packages will be INSTALLED:\n",
      "\n",
      "  _libgcc_mutex      pkgs/main/linux-64::_libgcc_mutex-0.1-main\n",
      "  blosc              conda-forge/linux-64::blosc-1.17.0-he1b5a44_0\n",
      "  bz2file            conda-forge/noarch::bz2file-0.98-py_0\n",
      "  bzip2              conda-forge/linux-64::bzip2-1.0.8-h516909a_0\n",
      "  ca-certificates    conda-forge/linux-64::ca-certificates-2019.6.16-hecc5488_0\n",
      "  certifi            conda-forge/linux-64::certifi-2019.6.16-py36_1\n",
      "  cvxopt             conda-forge/linux-64::cvxopt-1.2.3-py36h915cfec_202\n",
      "  cycler             conda-forge/noarch::cycler-0.10.0-py_1\n",
      "  dbus               conda-forge/linux-64::dbus-1.13.6-he372182_0\n",
      "  dipy               conda-forge/linux-64::dipy-0.16.0-py36h3010b51_0\n",
      "  dsdp               conda-forge/linux-64::dsdp-5.8-h23d7751_1203\n",
      "  expat              conda-forge/linux-64::expat-2.2.5-he1b5a44_1003\n",
      "  fftw               conda-forge/linux-64::fftw-3.3.8-nompi_h7f3a6c3_1106\n",
      "  fontconfig         conda-forge/linux-64::fontconfig-2.13.1-h86ecdb6_1001\n",
      "  freetype           conda-forge/linux-64::freetype-2.10.0-he983fc9_0\n",
      "  gettext            conda-forge/linux-64::gettext-0.19.8.1-hc5be6a0_1002\n",
      "  glib               conda-forge/linux-64::glib-2.58.3-h6f030ca_1002\n",
      "  glpk               conda-forge/linux-64::glpk-4.65-ha14ba45_1001\n",
      "  gmp                conda-forge/linux-64::gmp-6.1.2-hf484d3e_1000\n",
      "  gsl                conda-forge/linux-64::gsl-2.5-h294904e_0\n",
      "  gst-plugins-base   conda-forge/linux-64::gst-plugins-base-1.14.5-h0935bb2_0\n",
      "  gstreamer          conda-forge/linux-64::gstreamer-1.14.5-h36ae1b5_0\n",
      "  h5py               conda-forge/linux-64::h5py-2.9.0-nompi_py36hcafd542_1103\n",
      "  hdf5               conda-forge/linux-64::hdf5-1.10.4-nompi_h3c11f04_1106\n",
      "  icu                conda-forge/linux-64::icu-64.2-he1b5a44_0\n",
      "  joblib             conda-forge/noarch::joblib-0.13.2-py_0\n",
      "  jpeg               conda-forge/linux-64::jpeg-9c-h14c3975_1001\n",
      "  kiwisolver         conda-forge/linux-64::kiwisolver-1.1.0-py36hc9558a2_0\n",
      "  libblas            conda-forge/linux-64::libblas-3.8.0-11_openblas\n",
      "  libcblas           conda-forge/linux-64::libcblas-3.8.0-11_openblas\n",
      "  libffi             conda-forge/linux-64::libffi-3.2.1-he1b5a44_1006\n",
      "  libgcc-ng          pkgs/main/linux-64::libgcc-ng-9.1.0-hdf63c60_0\n",
      "  libgfortran-ng     pkgs/main/linux-64::libgfortran-ng-7.3.0-hdf63c60_0\n",
      "  libiconv           conda-forge/linux-64::libiconv-1.15-h516909a_1005\n",
      "  liblapack          conda-forge/linux-64::liblapack-3.8.0-11_openblas\n",
      "  libopenblas        conda-forge/linux-64::libopenblas-0.3.6-h6e990d7_6\n",
      "  libpng             conda-forge/linux-64::libpng-1.6.37-hed695b0_0\n",
      "  libstdcxx-ng       pkgs/main/linux-64::libstdcxx-ng-9.1.0-hdf63c60_0\n",
      "  libuuid            conda-forge/linux-64::libuuid-2.32.1-h14c3975_1000\n",
      "  libxcb             conda-forge/linux-64::libxcb-1.13-h14c3975_1002\n",
      "  libxml2            conda-forge/linux-64::libxml2-2.9.9-hee79883_2\n",
      "  lzo                conda-forge/linux-64::lzo-2.10-h14c3975_1000\n",
      "  matplotlib         conda-forge/linux-64::matplotlib-3.1.1-py36_1\n",
      "  matplotlib-base    conda-forge/linux-64::matplotlib-base-3.1.1-py36he7580a8_1\n",
      "  metis              conda-forge/linux-64::metis-5.1.0-hf484d3e_1003\n",
      "  mock               conda-forge/linux-64::mock-3.0.5-py36_0\n",
      "  ncurses            conda-forge/linux-64::ncurses-6.1-hf484d3e_1002\n",
      "  nibabel            conda-forge/noarch::nibabel-2.4.1-py_0\n",
      "  numexpr            conda-forge/linux-64::numexpr-2.6.9-py36h637b7d7_1000\n",
      "  numpy              conda-forge/linux-64::numpy-1.17.0-py36h95a1406_0\n",
      "  openssl            conda-forge/linux-64::openssl-1.1.1c-h516909a_0\n",
      "  pcre               conda-forge/linux-64::pcre-8.41-hf484d3e_1003\n",
      "  pip                conda-forge/linux-64::pip-19.2.1-py36_0\n",
      "  pthread-stubs      conda-forge/linux-64::pthread-stubs-0.4-h14c3975_1001\n",
      "  pydicom            conda-forge/noarch::pydicom-1.3.0-py_0\n",
      "  pyparsing          conda-forge/noarch::pyparsing-2.4.2-py_0\n",
      "  pyqt               conda-forge/linux-64::pyqt-5.9.2-py36hcca6a23_2\n",
      "  pytables           conda-forge/linux-64::pytables-3.5.2-py36ha1aa75f_0\n",
      "  python             conda-forge/linux-64::python-3.6.7-h357f687_1005\n",
      "  python-dateutil    conda-forge/noarch::python-dateutil-2.8.0-py_0\n",
      "  qt                 conda-forge/linux-64::qt-5.9.7-h0c104cb_3\n",
      "  readline           conda-forge/linux-64::readline-8.0-hf8c457e_0\n",
      "  scikit-learn       conda-forge/linux-64::scikit-learn-0.21.3-py36hcdab131_0\n",
      "  scipy              conda-forge/linux-64::scipy-1.3.0-py36h921218d_1\n",
      "  setuptools         conda-forge/linux-64::setuptools-41.0.1-py36_0\n",
      "  sip                conda-forge/linux-64::sip-4.19.8-py36hf484d3e_1000\n",
      "  six                conda-forge/linux-64::six-1.12.0-py36_1000\n",
      "  sqlite             conda-forge/linux-64::sqlite-3.29.0-hcee41ef_0\n",
      "  suitesparse        conda-forge/linux-64::suitesparse-4.5.6-heab0a99_1202\n",
      "  tbb                conda-forge/linux-64::tbb-2019.7-hc9558a2_0\n",
      "  tk                 conda-forge/linux-64::tk-8.6.9-hed695b0_1002\n",
      "  tornado            conda-forge/linux-64::tornado-6.0.3-py36h516909a_0\n",
      "  wheel              conda-forge/linux-64::wheel-0.33.4-py36_0\n",
      "  xorg-libxau        conda-forge/linux-64::xorg-libxau-1.0.9-h14c3975_0\n",
      "  xorg-libxdmcp      conda-forge/linux-64::xorg-libxdmcp-1.1.3-h516909a_0\n",
      "  xz                 conda-forge/linux-64::xz-5.2.4-h14c3975_1001\n",
      "  zlib               conda-forge/linux-64::zlib-1.2.11-h516909a_1005\n",
      "\n",
      "\n",
      "\n",
      "Downloading and Extracting Packages\n",
      "fftw-3.3.8           | 5.8 MB    | ##################################### | 100% \n",
      "bzip2-1.0.8          | 396 KB    | ##################################### | 100% \n",
      "suitesparse-4.5.6    | 2.4 MB    | ##################################### | 100% \n"
     ]
    },
    {
     "name": "stdout",
     "output_type": "stream",
     "text": [
      "pthread-stubs-0.4    | 5 KB      | ##################################### | 100% \n",
      "pytables-3.5.2       | 1.5 MB    | ##################################### | 100% \n",
      "blosc-1.17.0         | 861 KB    | ##################################### | 100% \n",
      "mock-3.0.5           | 44 KB     | ##################################### | 100% \n",
      "pydicom-1.3.0        | 5.3 MB    | ##################################### | 100% \n",
      "_libgcc_mutex-0.1    | 3 KB      | ##################################### | 100% \n",
      "bz2file-0.98         | 9 KB      | ##################################### | 100% \n",
      "liblapack-3.8.0      | 10 KB     | ##################################### | 100% \n",
      "nibabel-2.4.1        | 2.7 MB    | ##################################### | 100% \n",
      "matplotlib-3.1.1     | 6 KB      | ##################################### | 100% \n",
      "lzo-2.10             | 319 KB    | ##################################### | 100% \n",
      "numexpr-2.6.9        | 194 KB    | ##################################### | 100% \n",
      "libcblas-3.8.0       | 10 KB     | ##################################### | 100% \n",
      "glpk-4.65            | 1.2 MB    | ##################################### | 100% \n",
      "dsdp-5.8             | 236 KB    | ##################################### | 100% \n",
      "gsl-2.5              | 2.7 MB    | ##################################### | 100% \n",
      "gmp-6.1.2            | 751 KB    | ##################################### | 100% \n",
      "metis-5.1.0          | 4.1 MB    | ##################################### | 100% \n",
      "dipy-0.16.0          | 7.1 MB    | ##################################### | 100% \n",
      "cvxopt-1.2.3         | 536 KB    | ##################################### | 100% \n",
      "hdf5-1.10.4          | 5.3 MB    | ##################################### | 100% \n",
      "libblas-3.8.0        | 10 KB     | ##################################### | 100% \n",
      "h5py-2.9.0           | 1.2 MB    | ##################################### | 100% \n",
      "tbb-2019.7           | 1.4 MB    | ##################################### | 100% \n",
      "Preparing transaction: done\n",
      "Verifying transaction: done\n",
      "Executing transaction: done\n",
      "#\n",
      "# To activate this environment, use\n",
      "#\n",
      "#     $ conda activate dipy_tracks\n",
      "#\n",
      "# To deactivate an active environment, use\n",
      "#\n",
      "#     $ conda deactivate\n",
      "\n",
      "(dipy_tracks) "
     ]
    },
    {
     "ename": "",
     "evalue": "1",
     "output_type": "error",
     "traceback": []
    }
   ],
   "source": [
    "conda create -y -n dipy_tracks  python=3.6 dipy "
   ]
  },
  {
   "cell_type": "markdown",
   "metadata": {},
   "source": [
    "As you can see, `conda`, by default, installs already a fair amount of libraries as compared to `venv`. However, we're still missing `fury`. So let's activate our newly create `conda environment` and install it. The steps and syntax are very similar to what we've done before: "
   ]
  },
  {
   "cell_type": "code",
   "execution_count": 21,
   "metadata": {},
   "outputs": [
    {
     "name": "stdout",
     "output_type": "stream",
     "text": [
      "(dipy_tracks) "
     ]
    },
    {
     "ename": "",
     "evalue": "1",
     "output_type": "error",
     "traceback": []
    }
   ],
   "source": [
    "source activate dipy_tracks"
   ]
  },
  {
   "cell_type": "code",
   "execution_count": 22,
   "metadata": {},
   "outputs": [
    {
     "name": "stdout",
     "output_type": "stream",
     "text": [
      "Collecting package metadata (current_repodata.json): done\n",
      "Solving environment: failed with current_repodata.json, will retry with next repodata source.\n",
      "Collecting package metadata (repodata.json): done\n",
      "Solving environment: failed\n",
      "\n",
      "PackagesNotFoundError: The following packages are not available from current channels:\n",
      "\n",
      "  - fury\n",
      "\n",
      "Current channels:\n",
      "\n",
      "  - https://conda.anaconda.org/conda-forge/linux-64\n",
      "  - https://conda.anaconda.org/conda-forge/noarch\n",
      "  - https://repo.anaconda.com/pkgs/main/linux-64\n",
      "  - https://repo.anaconda.com/pkgs/main/noarch\n",
      "  - https://repo.anaconda.com/pkgs/r/linux-64\n",
      "  - https://repo.anaconda.com/pkgs/r/noarch\n",
      "\n",
      "To search for alternate channels that may provide the conda package you're\n",
      "looking for, navigate to\n",
      "\n",
      "    https://anaconda.org\n",
      "\n",
      "and use the search bar at the top of the page.\n",
      "\n",
      "\n",
      "(dipy_tracks) "
     ]
    },
    {
     "ename": "",
     "evalue": "1",
     "output_type": "error",
     "traceback": []
    }
   ],
   "source": [
    "conda install fury"
   ]
  },
  {
   "cell_type": "markdown",
   "metadata": {},
   "source": [
    "And yet another problem: `fury` can't be found in the channels `conda` is looking for it (*spoiler: installing `fury` using `conda` only worked till python3.4*). But we can get using `pip`. This is a good of example of not all libraries being available in all package managers.  "
   ]
  },
  {
   "cell_type": "code",
   "execution_count": 23,
   "metadata": {},
   "outputs": [
    {
     "name": "stdout",
     "output_type": "stream",
     "text": [
      "Requirement already satisfied: fury in ./dipy_tracks/lib/python3.6/site-packages (0.3.0)\n",
      "Requirement already satisfied: scipy>=0.9 in ./dipy_tracks/lib/python3.6/site-packages (from fury) (1.3.0)\n",
      "Requirement already satisfied: vtk>=8.1.0 in ./dipy_tracks/lib/python3.6/site-packages (from fury) (8.1.2)\n",
      "Requirement already satisfied: numpy>=1.7.1 in ./dipy_tracks/lib/python3.6/site-packages (from fury) (1.17.0)\n",
      "\u001b[33mYou are using pip version 10.0.1, however version 19.2.1 is available.\n",
      "You should consider upgrading via the 'pip install --upgrade pip' command.\u001b[0m\n",
      "(dipy_tracks) "
     ]
    },
    {
     "ename": "",
     "evalue": "1",
     "output_type": "error",
     "traceback": []
    }
   ],
   "source": [
    "pip install fury"
   ]
  },
  {
   "cell_type": "markdown",
   "metadata": {},
   "source": [
    "Okay, so far so good. Let's check our environment before we try to run the example:"
   ]
  },
  {
   "cell_type": "code",
   "execution_count": 25,
   "metadata": {},
   "outputs": [
    {
     "name": "stdout",
     "output_type": "stream",
     "text": [
      "# conda environments:\n",
      "#\n",
      "base                     /opt/miniconda-latest\n",
      "dipy_tracks              /opt/miniconda-latest/envs/dipy_tracks\n",
      "venv_tutorial         *  /opt/miniconda-latest/envs/venv_tutorial\n",
      "\n",
      "(dipy_tracks) "
     ]
    },
    {
     "ename": "",
     "evalue": "1",
     "output_type": "error",
     "traceback": []
    }
   ],
   "source": [
    "conda info --envs"
   ]
  },
  {
   "cell_type": "code",
   "execution_count": 26,
   "metadata": {},
   "outputs": [
    {
     "name": "stdout",
     "output_type": "stream",
     "text": [
      "/home/venv_tutorial/test/content/day2/pm/dipy_tracks/bin/python\n",
      "(dipy_tracks) "
     ]
    },
    {
     "ename": "",
     "evalue": "1",
     "output_type": "error",
     "traceback": []
    }
   ],
   "source": [
    "which python"
   ]
  },
  {
   "cell_type": "code",
   "execution_count": 27,
   "metadata": {},
   "outputs": [
    {
     "name": "stdout",
     "output_type": "stream",
     "text": [
      "# packages in environment at /opt/miniconda-latest/envs/venv_tutorial:\n",
      "#\n",
      "# Name                    Version                   Build  Channel\n",
      "_libgcc_mutex             0.1                        main    defaults\n",
      "asn1crypto                0.24.0                py36_1003    conda-forge\n",
      "astroid                   2.2.5                    pypi_0    pypi\n",
      "astropy                   3.2.1                    pypi_0    pypi\n",
      "atomicwrites              1.3.0                    pypi_0    pypi\n",
      "attrs                     19.1.0                     py_0    conda-forge\n",
      "backcall                  0.1.0                      py_0    conda-forge\n",
      "bleach                    3.1.0                      py_0    conda-forge\n",
      "ca-certificates           2019.6.16            hecc5488_0    conda-forge\n",
      "certifi                   2019.6.16                py36_1    conda-forge\n",
      "cffi                      1.12.3           py36h8022711_0    conda-forge\n",
      "chardet                   3.0.4                 py36_1003    conda-forge\n",
      "click                     7.0                      pypi_0    pypi\n",
      "confuse                   1.0.0                    pypi_0    pypi\n",
      "cryptography              2.7              py36h72c5cf5_0    conda-forge\n",
      "cycler                    0.10.0                     py_1    conda-forge\n",
      "dbus                      1.13.6               he372182_0    conda-forge\n",
      "decorator                 4.4.0                      py_0    conda-forge\n",
      "defusedxml                0.5.0                      py_1    conda-forge\n",
      "entrypoints               0.3                   py36_1000    conda-forge\n",
      "expat                     2.2.5             he1b5a44_1003    conda-forge\n",
      "fontconfig                2.13.1            h86ecdb6_1001    conda-forge\n",
      "freetype                  2.10.0               he983fc9_0    conda-forge\n",
      "funcsigs                  1.0.2                    pypi_0    pypi\n",
      "future                    0.17.1                   pypi_0    pypi\n",
      "gettext                   0.19.8.1          hc5be6a0_1002    conda-forge\n",
      "glib                      2.58.3            h6f030ca_1002    conda-forge\n",
      "gst-plugins-base          1.14.5               h0935bb2_0    conda-forge\n",
      "gstreamer                 1.14.5               h36ae1b5_0    conda-forge\n",
      "htmlmin                   0.1.12                   pypi_0    pypi\n",
      "icu                       64.2                 he1b5a44_0    conda-forge\n",
      "idna                      2.8                   py36_1000    conda-forge\n",
      "importlib-metadata        0.19                     pypi_0    pypi\n",
      "ipykernel                 5.1.1            py36h5ca1d4c_0    conda-forge\n",
      "ipython                   7.7.0            py36h5ca1d4c_0    conda-forge\n",
      "ipython_genutils          0.2.0                      py_1    conda-forge\n",
      "ipywidgets                7.5.1                      py_0    conda-forge\n",
      "isodate                   0.6.0                    pypi_0    pypi\n",
      "isort                     4.3.21                   pypi_0    pypi\n",
      "jedi                      0.14.1                   py36_0    conda-forge\n",
      "jinja2                    2.10.1                     py_0    conda-forge\n",
      "joblib                    0.13.2                     py_0    conda-forge\n",
      "jpeg                      9c                h14c3975_1001    conda-forge\n",
      "json5                     0.8.5                      py_0    conda-forge\n",
      "jsonschema                3.0.2                    py36_0    conda-forge\n",
      "jupyter                   1.0.0                      py_2    conda-forge\n",
      "jupyter_client            5.3.1                      py_0    conda-forge\n",
      "jupyter_console           6.0.0                      py_0    conda-forge\n",
      "jupyter_contrib_core      0.3.3                      py_2    conda-forge\n",
      "jupyter_contrib_nbextensions 0.5.1                    py36_0    conda-forge\n",
      "jupyter_core              4.4.0                      py_0    conda-forge\n",
      "jupyter_highlight_selected_word 0.2.0                 py36_1000    conda-forge\n",
      "jupyter_latex_envs        1.4.4                 py36_1000    conda-forge\n",
      "jupyter_nbextensions_configurator 0.4.1                    py36_0    conda-forge\n",
      "jupyterlab                1.0.4                    py36_0    conda-forge\n",
      "jupyterlab_server         1.0.0                      py_1    conda-forge\n",
      "kiwisolver                1.1.0            py36hc9558a2_0    conda-forge\n",
      "lazy-object-proxy         1.4.1                    pypi_0    pypi\n",
      "libblas                   3.8.0               11_openblas    conda-forge\n",
      "libcblas                  3.8.0               11_openblas    conda-forge\n",
      "libffi                    3.2.1             he1b5a44_1006    conda-forge\n",
      "libgcc-ng                 9.1.0                hdf63c60_0    defaults\n",
      "libgfortran-ng            7.3.0                hdf63c60_0    defaults\n",
      "libiconv                  1.15              h516909a_1005    conda-forge\n",
      "liblapack                 3.8.0               11_openblas    conda-forge\n",
      "libopenblas               0.3.6                h6e990d7_6    conda-forge\n",
      "libpng                    1.6.37               hed695b0_0    conda-forge\n",
      "libsodium                 1.0.17               h516909a_0    conda-forge\n",
      "libstdcxx-ng              9.1.0                hdf63c60_0    defaults\n",
      "libuuid                   2.32.1            h14c3975_1000    conda-forge\n",
      "libxcb                    1.13              h14c3975_1002    conda-forge\n",
      "libxml2                   2.9.9                hee79883_2    conda-forge\n",
      "libxslt                   1.1.32            h31b3aaa_1004    conda-forge\n",
      "llvmlite                  0.29.0                   pypi_0    pypi\n",
      "lxml                      4.4.0            py36h7ec2d77_0    conda-forge\n",
      "markupsafe                1.1.1            py36h14c3975_0    conda-forge\n",
      "matplotlib                3.1.1                    py36_1    conda-forge\n",
      "matplotlib-base           3.1.1            py36he7580a8_1    conda-forge\n",
      "mccabe                    0.6.1                    pypi_0    pypi\n",
      "missingdata               0.1.3                    pypi_0    pypi\n",
      "missingno                 0.4.2                    pypi_0    pypi\n",
      "mistune                   0.8.4           py36h14c3975_1000    conda-forge\n",
      "mne                       0.18.2                   pypi_0    pypi\n",
      "more-itertools            7.2.0                    pypi_0    pypi\n",
      "nbconvert                 5.5.0                      py_0    conda-forge\n",
      "nbformat                  4.4.0                      py_1    conda-forge\n",
      "ncurses                   6.1               hf484d3e_1002    conda-forge\n",
      "networkx                  2.3                      pypi_0    pypi\n",
      "neurdflib                 5.0.0.post1              pypi_0    pypi\n",
      "nibabel                   2.4.1                    pypi_0    pypi\n",
      "nilearn                   0.5.2                    pypi_0    pypi\n",
      "nipype                    1.2.0                    pypi_0    pypi\n",
      "notebook                  6.0.0                    py36_0    conda-forge\n",
      "numba                     0.45.1                   pypi_0    pypi\n",
      "numpy                     1.17.0           py36h95a1406_0    conda-forge\n",
      "openssl                   1.1.1c               h516909a_0    conda-forge\n",
      "packaging                 19.1                     pypi_0    pypi\n",
      "pandas                    0.25.0           py36hb3f55d8_0    conda-forge\n",
      "pandas-profiling          2.3.0                    pypi_0    pypi\n",
      "pandoc                    2.7.3                         0    conda-forge\n",
      "pandocfilters             1.4.2                      py_1    conda-forge\n",
      "parso                     0.5.1                      py_0    conda-forge\n",
      "patsy                     0.5.1                      py_0    conda-forge\n",
      "pcre                      8.41              hf484d3e_1003    conda-forge\n",
      "pexpect                   4.7.0                    py36_0    conda-forge\n",
      "phik                      0.9.8                    pypi_0    pypi\n",
      "pickleshare               0.7.5                 py36_1000    conda-forge\n",
      "pip                       19.2.1                   py36_0    conda-forge\n",
      "plotly                    4.0.0                      py_0    conda-forge\n",
      "pluggy                    0.12.0                   pypi_0    pypi\n",
      "prometheus_client         0.7.1                      py_0    conda-forge\n",
      "prompt_toolkit            2.0.9                      py_0    conda-forge\n",
      "prov                      1.5.3                    pypi_0    pypi\n"
     ]
    },
    {
     "name": "stdout",
     "output_type": "stream",
     "text": [
      "pthread-stubs             0.4               h14c3975_1001    conda-forge\n",
      "ptyprocess                0.6.0                   py_1001    conda-forge\n",
      "py                        1.8.0                    pypi_0    pypi\n",
      "pycparser                 2.19                     py36_1    conda-forge\n",
      "pydot                     1.4.1                    pypi_0    pypi\n",
      "pydotplus                 2.0.2                    pypi_0    pypi\n",
      "pygments                  2.4.2                      py_0    conda-forge\n",
      "pylint                    2.3.1                    pypi_0    pypi\n",
      "pyopenssl                 19.0.0                   py36_0    conda-forge\n",
      "pyparsing                 2.4.2                      py_0    conda-forge\n",
      "pyqt                      5.9.2            py36hcca6a23_2    conda-forge\n",
      "pyrsistent                0.15.4           py36h516909a_0    conda-forge\n",
      "pysocks                   1.7.0                    py36_0    conda-forge\n",
      "pytest                    5.0.1                    pypi_0    pypi\n",
      "pytest-pylint             0.14.1                   pypi_0    pypi\n",
      "python                    3.6.7             h357f687_1005    conda-forge\n",
      "python-dateutil           2.8.0                      py_0    conda-forge\n",
      "pytz                      2019.2                     py_0    conda-forge\n",
      "pyyaml                    5.1.2            py36h516909a_0    conda-forge\n",
      "pyzmq                     18.0.2           py36h1768529_2    conda-forge\n",
      "qt                        5.9.7                h0c104cb_3    conda-forge\n",
      "qtconsole                 4.5.2                      py_0    conda-forge\n",
      "rdflib                    4.2.2                    pypi_0    pypi\n",
      "readline                  8.0                  hf8c457e_0    conda-forge\n",
      "requests                  2.22.0                   py36_1    conda-forge\n",
      "retrying                  1.3.3                      py_2    conda-forge\n",
      "scikit-learn              0.21.3           py36hcdab131_0    conda-forge\n",
      "scipy                     1.3.0            py36h921218d_1    conda-forge\n",
      "seaborn                   0.9.0                      py_1    conda-forge\n",
      "send2trash                1.5.0                      py_0    conda-forge\n",
      "setuptools                41.0.1                   py36_0    conda-forge\n",
      "simplejson                3.16.0                   pypi_0    pypi\n",
      "sip                       4.19.8          py36hf484d3e_1000    conda-forge\n",
      "six                       1.12.0                py36_1000    conda-forge\n",
      "sqlite                    3.29.0               hcee41ef_0    conda-forge\n",
      "statsmodels               0.10.1           py36hc1659b7_0    conda-forge\n",
      "terminado                 0.8.2                    py36_0    conda-forge\n",
      "testpath                  0.4.2                   py_1001    conda-forge\n",
      "tk                        8.6.9             hed695b0_1002    conda-forge\n",
      "tornado                   6.0.3            py36h516909a_0    conda-forge\n",
      "traitlets                 4.3.2                 py36_1000    conda-forge\n",
      "traits                    5.1.2                    pypi_0    pypi\n",
      "typed-ast                 1.4.0                    pypi_0    pypi\n",
      "urllib3                   1.25.3                   py36_0    conda-forge\n",
      "wcwidth                   0.1.7                      py_1    conda-forge\n",
      "webencodings              0.5.1                      py_1    conda-forge\n",
      "wheel                     0.33.4                   py36_0    conda-forge\n",
      "widgetsnbextension        3.5.1                    py36_0    conda-forge\n",
      "wrapt                     1.11.2                   pypi_0    pypi\n",
      "xlrd                      1.2.0                    pypi_0    pypi\n",
      "xorg-libxau               1.0.9                h14c3975_0    conda-forge\n",
      "xorg-libxdmcp             1.1.3                h516909a_0    conda-forge\n",
      "xz                        5.2.4             h14c3975_1001    conda-forge\n",
      "yaml                      0.1.7             h14c3975_1001    conda-forge\n",
      "zeromq                    4.3.2                he1b5a44_2    conda-forge\n",
      "zipp                      0.5.2                    pypi_0    pypi\n",
      "zlib                      1.2.11            h516909a_1005    conda-forge\n",
      "(dipy_tracks) "
     ]
    },
    {
     "ename": "",
     "evalue": "1",
     "output_type": "error",
     "traceback": []
    }
   ],
   "source": [
    "conda list"
   ]
  },
  {
   "cell_type": "markdown",
   "metadata": {},
   "source": [
    "Okay, looks good. Let's export the environment to be available for later:"
   ]
  },
  {
   "cell_type": "code",
   "execution_count": 28,
   "metadata": {},
   "outputs": [
    {
     "name": "stdout",
     "output_type": "stream",
     "text": [
      "(dipy_tracks) "
     ]
    },
    {
     "ename": "",
     "evalue": "1",
     "output_type": "error",
     "traceback": []
    }
   ],
   "source": [
    "conda env export > environment_conda.yml"
   ]
  },
  {
   "cell_type": "markdown",
   "metadata": {},
   "source": [
    "And we're ready for a new test run:"
   ]
  },
  {
   "cell_type": "code",
   "execution_count": 29,
   "metadata": {},
   "outputs": [
    {
     "name": "stdout",
     "output_type": "stream",
     "text": [
      "Dataset is already in place. If you want to fetch it again please first remove the folder /home/venv_tutorial/.dipy/stanford_hardi \n",
      "Dataset is already in place. If you want to fetch it again please first remove the folder /home/venv_tutorial/.dipy/stanford_hardi \n",
      "Dataset is already in place. If you want to fetch it again please first remove the folder /home/venv_tutorial/.dipy/stanford_hardi \n",
      "Traceback (most recent call last):\n",
      "  File \"/home/venv_tutorial/test/content/day2/pm/dipy_tracks/lib/python3.6/site-packages/vtk/vtkOpenGLKit.py\", line 5, in <module>\n",
      "    from .vtkOpenGLKitPython import *\n",
      "ImportError: libSM.so.6: cannot open shared object file: No such file or directory\n",
      "\n",
      "During handling of the above exception, another exception occurred:\n",
      "\n",
      "Traceback (most recent call last):\n",
      "  File \"introduction_to_basic_tracking.py\", line 98, in <module>\n",
      "    from dipy.viz import window, actor, colormap as cmap, have_fury\n",
      "  File \"/home/venv_tutorial/test/content/day2/pm/dipy_tracks/lib/python3.6/site-packages/dipy/viz/__init__.py\", line 11, in <module>\n",
      "    from fury import actor, window, colormap, interactor, ui, utils\n",
      "  File \"/home/venv_tutorial/test/content/day2/pm/dipy_tracks/lib/python3.6/site-packages/fury/actor.py\", line 4, in <module>\n",
      "    import vtk\n",
      "  File \"/home/venv_tutorial/test/content/day2/pm/dipy_tracks/lib/python3.6/site-packages/vtk/__init__.py\", line 12, in <module>\n",
      "    from .vtkOpenGLKit import *\n",
      "  File \"/home/venv_tutorial/test/content/day2/pm/dipy_tracks/lib/python3.6/site-packages/vtk/vtkOpenGLKit.py\", line 9, in <module>\n",
      "    from vtkOpenGLKitPython import *\n",
      "ModuleNotFoundError: No module named 'vtkOpenGLKitPython'\n",
      "(dipy_tracks) "
     ]
    },
    {
     "ename": "",
     "evalue": "1",
     "output_type": "error",
     "traceback": []
    }
   ],
   "source": [
    "python introduction_to_basic_tracking.py"
   ]
  },
  {
   "cell_type": "markdown",
   "metadata": {},
   "source": [
    "Them same error as in our `venv` environment... Feeling the frustration? Good, that was plan. This example stresses two important things: a) you should read error messages carefully and b) quite often a virtualization at the pure python level is not enough. Focusing the latter, we need to install dependencies that are outside python, that is [VTK](https://vtk.org/) and certain linux libriaries and binaries. At this point there is nothing more we can do based on pure python virtualization, we have to go one stop further, also including non-python resources in order to enable a re-usable/executable and reproducible functionality that can easily be shared. To this end, let's have a look at our graphic from above:"
   ]
  },
  {
   "cell_type": "markdown",
   "metadata": {},
   "source": [
    "<img src=\"https://raw.githubusercontent.com/goanpeca/pyday-cali-2019/master/img_source/isolation.png\"\n",
    "     alt=\"virtualization layers\"\n",
    "     style=\"float: left; margin-right: 2px;\" width=600; height=800  />"
   ]
  },
  {
   "cell_type": "markdown",
   "metadata": {},
   "source": [
    "Given the prominent differences between OS and setups, please go ahead and try to solve this problem within the next 10 minutes. Afterwards, we'll gather the diversity of outputs and problems you had."
   ]
  },
  {
   "cell_type": "markdown",
   "metadata": {},
   "source": [
    "### Virtualization using containers"
   ]
  },
  {
   "cell_type": "markdown",
   "metadata": {},
   "source": [
    "Based on your own experience and those of the other participants, it's not a far stretch to say: this whole endeavor  is way more difficult than expected. A lot of time, a pure python virtualization is not sufficient. But how can one ensure that a given script or analysis is re-usable/executable and reproducible if the dependencies are on an OS level? Well, one great option to do so is the utilization of containers. "
   ]
  },
  {
   "cell_type": "code",
   "execution_count": null,
   "metadata": {},
   "outputs": [],
   "source": []
  },
  {
   "cell_type": "code",
   "execution_count": null,
   "metadata": {},
   "outputs": [],
   "source": []
  }
 ],
 "metadata": {
  "kernelspec": {
   "display_name": "Bash",
   "language": "bash",
   "name": "bash"
  },
  "language_info": {
   "codemirror_mode": "shell",
   "file_extension": ".sh",
   "mimetype": "text/x-sh",
   "name": "bash"
  }
 },
 "nbformat": 4,
 "nbformat_minor": 2
}
