{
 "cells": [
  {
   "cell_type": "markdown",
   "metadata": {},
   "source": [
    "Basic data visualization with python\n",
    "==========\n",
    "Here, will learn some of the most basic plotting functionalities with Python, to give you the tools you need to assess basic distributions and relationships within you dataset. We will focus on the Seaborn library, which is designed to make nice looking plots quickly and (mostly) intuitively.\n",
    "\n",
    "Link to related slides --> https://figshare.com/s/4d9953055c9ed36301ad#/articles/9162425"
   ]
  },
  {
   "cell_type": "code",
   "execution_count": null,
   "metadata": {},
   "outputs": [],
   "source": [
    "import os\n",
    "import pandas\n",
    "import numpy as np\n",
    "import matplotlib.pyplot as plt\n",
    "import seaborn as sns\n",
    "\n",
    "%matplotlib inline"
   ]
  },
  {
   "cell_type": "markdown",
   "metadata": {},
   "source": [
    "Let's first gather our dataset"
   ]
  },
  {
   "cell_type": "code",
   "execution_count": null,
   "metadata": {
    "collapsed": true
   },
   "outputs": [],
   "source": [
    "## Uncomment the line below and enter the path to where you\n",
    "## downloaded the dataset\n",
    "\n",
    "datadir = '/data1/users/jvogel/nilearn_tutorial/MAIN_Nilearn/'\n"
   ]
  },
  {
   "cell_type": "markdown",
   "metadata": {},
   "source": [
    "Load the spreadsheet"
   ]
  },
  {
   "cell_type": "code",
   "execution_count": null,
   "metadata": {},
   "outputs": [],
   "source": [
    "pheno_file = os.path.join(datadir, 'participants.tsv')\n",
    "\n",
    "pheno = pandas.read_csv(pheno_file,sep='\\t')\n",
    "\n",
    "pheno.head()"
   ]
  },
  {
   "cell_type": "markdown",
   "metadata": {},
   "source": [
    "What are our different variables?"
   ]
  },
  {
   "cell_type": "code",
   "execution_count": null,
   "metadata": {},
   "outputs": [],
   "source": [
    "pheno.columns"
   ]
  },
  {
   "cell_type": "markdown",
   "metadata": {},
   "source": [
    "### Univariate visualization"
   ]
  },
  {
   "cell_type": "markdown",
   "metadata": {},
   "source": [
    "Let's start by having a quick look at the summary statistics and distribution of Age"
   ]
  },
  {
   "cell_type": "code",
   "execution_count": null,
   "metadata": {},
   "outputs": [],
   "source": [
    "# summary statistics\n",
    "print(pheno['Age'].describe())"
   ]
  },
  {
   "cell_type": "code",
   "execution_count": null,
   "metadata": {},
   "outputs": [],
   "source": [
    "# simple histogram with seaborn\n",
    "sns.distplot(pheno['Age'],\n",
    "            #bins=30,          # increase \"resolution\"\n",
    "            #color='black',    # change color\n",
    "            #kde=False,        # get rid of KDE (y axis=N)\n",
    "            #rug=True,         # add \"rug\"\n",
    "            )"
   ]
  },
  {
   "cell_type": "markdown",
   "metadata": {},
   "source": [
    "What kind of distribution do we have here? \n",
    "\n",
    "Let's try log normalization as a solution. Here's one way to do that"
   ]
  },
  {
   "cell_type": "code",
   "execution_count": null,
   "metadata": {},
   "outputs": [],
   "source": [
    "import numpy as np\n",
    "\n",
    "log_age = np.log(pheno['Age'])\n",
    "sns.distplot(log_age,\n",
    "            bins=30,          \n",
    "            color='black',    \n",
    "            kde=False,         \n",
    "            rug=True,          \n",
    "            )"
   ]
  },
  {
   "cell_type": "markdown",
   "metadata": {},
   "source": [
    "There is another approach for log-transforming that is perhaps better practice, and generalizable to *nearly any* type of transformation:\n",
    "\n",
    "With sklearn, you can great a custom transformation object, which can be applied to different datasets.\n",
    "\n",
    "Advantages:\n",
    "* Can be easily reversed at any time\n",
    "* Perfect for basing transformation off one dataset and applying it to a different dataset\n",
    "\n",
    "Distadvantages:\n",
    "* Expects 2D data (but that's okay)\n",
    "* More lines of code :("
   ]
  },
  {
   "cell_type": "code",
   "execution_count": null,
   "metadata": {},
   "outputs": [],
   "source": [
    "from sklearn.preprocessing import FunctionTransformer\n",
    "\n",
    "log_transformer = FunctionTransformer(np.log, validate=True)\n",
    "\n",
    "log_transformer.fit(pheno['Age'])\n",
    "\n",
    "#age2d = pheno['Age'].values.reshape(-1,1)\n",
    "#log_transformer.fit(age2d)\n",
    "\n",
    "\n",
    "\n",
    "sk_log_Age = log_transformer.transform(age2d)"
   ]
  },
  {
   "cell_type": "code",
   "execution_count": null,
   "metadata": {},
   "outputs": [],
   "source": [
    "# Are two log transformed datasets are equal?\n",
    "all(sk_log_Age[:,0] == log_age)"
   ]
  },
  {
   "cell_type": "markdown",
   "metadata": {},
   "source": [
    "And we can easily reverse this normalization to return to the original values for age."
   ]
  },
  {
   "cell_type": "code",
   "execution_count": null,
   "metadata": {},
   "outputs": [],
   "source": [
    "reverted_age = log_transformer.inverse_transform(age2d)\n",
    "\n",
    "# The inverse transform should be the same as our original values\n",
    "all(reverted_age == age2d)"
   ]
  },
  {
   "cell_type": "markdown",
   "metadata": {},
   "source": [
    "Another strategy would be categorization. Two type of categorization have already been done for us in this dataset. We can visualize this with pandas value_counts() or with seaborn countplot()"
   ]
  },
  {
   "cell_type": "code",
   "execution_count": null,
   "metadata": {},
   "outputs": [],
   "source": [
    "# Value counts of AgeGroup\n",
    "pheno['AgeGroup'].value_counts()"
   ]
  },
  {
   "cell_type": "code",
   "execution_count": null,
   "metadata": {},
   "outputs": [],
   "source": [
    "# Countplot of Child_Adult\n",
    "\n",
    "sns.countplot(pheno['Child_Adult'])"
   ]
  },
  {
   "cell_type": "markdown",
   "metadata": {},
   "source": [
    "### Bivariate visualization: Linear x Linear"
   ]
  },
  {
   "cell_type": "markdown",
   "metadata": {},
   "source": [
    "Cool! Now let's play around a bit with bivariate visualization. \n",
    "\n",
    "For example, we could look at the association between age and a cognitive phenotype like Theory of Mind or \"intelligence\". We can start with a scatterplot. A quick and easy scatterplot can be built with regplot()"
   ]
  },
  {
   "cell_type": "code",
   "execution_count": null,
   "metadata": {},
   "outputs": [],
   "source": [
    "sns.regplot(x=pheno['Age'], y=pheno['ToM Booklet-Matched'])"
   ]
  },
  {
   "cell_type": "markdown",
   "metadata": {},
   "source": [
    "Whoa... what's that about? Notice that the error message is talking about different variable types -- strings and floats. Can you figure out what's going on here?"
   ]
  },
  {
   "cell_type": "code",
   "execution_count": null,
   "metadata": {},
   "outputs": [],
   "source": [
    "print(pheno['ToM Booklet-Matched'].dtype)\n",
    "print(type(pheno['ToM Booklet-Matched'][0]))"
   ]
  },
  {
   "cell_type": "markdown",
   "metadata": {},
   "source": [
    "It seem this theory of mind test is encoded as string instead of as floats. Seaborn wants to work with floats! But that's an easy fix. We'll just change the type!"
   ]
  },
  {
   "cell_type": "code",
   "execution_count": null,
   "metadata": {},
   "outputs": [],
   "source": [
    "new_TOM = pandas.to_numeric(pheno['ToM Booklet-Matched'], errors='coerce')\n",
    "pheno.loc[:,'ToM Booklet-Matched'] = new_TOM\n",
    "\n",
    "print(pheno['ToM Booklet-Matched'].dtype)\n",
    "print(type(pheno['ToM Booklet-Matched'][0]))"
   ]
  },
  {
   "cell_type": "markdown",
   "metadata": {},
   "source": [
    "Et voila"
   ]
  },
  {
   "cell_type": "code",
   "execution_count": null,
   "metadata": {},
   "outputs": [],
   "source": [
    "sns.regplot(x=pheno['Age'], y=pheno['ToM Booklet-Matched'])"
   ]
  },
  {
   "cell_type": "markdown",
   "metadata": {},
   "source": [
    "regplot() will automatically drop missing values (pairwise). There are also a number of handy and very quick arguments to change the nature of the plot"
   ]
  },
  {
   "cell_type": "code",
   "execution_count": null,
   "metadata": {},
   "outputs": [],
   "source": [
    "## Try uncommenting these lines (one at a time) to see how\n",
    "## the plot changes.\n",
    "\n",
    "sns.regplot(x=pheno['Age'], y=pheno['ToM Booklet-Matched'],\n",
    "           #order=2,        # fit a quadratic curve\n",
    "           #lowess=True,    # fit a lowess curve\n",
    "           #fit_reg = False # no regression line\n",
    "           #marker = ''     # no points\n",
    "           #marker = 'x',   # xs instead of points\n",
    "           )"
   ]
  },
  {
   "cell_type": "markdown",
   "metadata": {},
   "source": [
    "Take a minute to try plotting another set of variables. Don't forget -- you may have to change the data type!"
   ]
  },
  {
   "cell_type": "code",
   "execution_count": null,
   "metadata": {},
   "outputs": [],
   "source": [
    "#sns.regplot(x=, y=)\n"
   ]
  },
  {
   "cell_type": "markdown",
   "metadata": {},
   "source": [
    "This would be as good a time as any to remind you that seaborn is built on top of matplotlib. Any seaborn object could be built from scratch from a matplotlib object. For example, regplot is built on top of plt.scatter"
   ]
  },
  {
   "cell_type": "code",
   "execution_count": null,
   "metadata": {},
   "outputs": [],
   "source": [
    "plt.scatter(x=pheno['Age'], y=pheno['ToM Booklet-Matched'])\n"
   ]
  },
  {
   "cell_type": "markdown",
   "metadata": {},
   "source": [
    "If you want to get really funky/fancy, you can play around with jointplot() and change the \"kind\" argument.\n",
    "\n",
    "However, note that jointplot is a different type of object and therefore follows different rules when it comes to editing. More on this later"
   ]
  },
  {
   "cell_type": "code",
   "execution_count": null,
   "metadata": {},
   "outputs": [],
   "source": [
    "for kind in ['scatter','kde','hex']:\n",
    "    sns.jointplot(x=pheno['Age'], y=pheno['ToM Booklet-Matched'],\n",
    "                  kind=kind)\n",
    "\n",
    "    plt.show()"
   ]
  },
  {
   "cell_type": "markdown",
   "metadata": {},
   "source": [
    "That last one was a bit weird, eh? These hexplots are really built for larger sample sizes. Just to showcase this, let's plot a hexplot 1000 samples of some random data. Observe how the hex plot deals with density in a way that the scatter plot cannot."
   ]
  },
  {
   "cell_type": "code",
   "execution_count": null,
   "metadata": {},
   "outputs": [],
   "source": [
    "mean, cov = [0, 1], [(1, .5), (.5, 1)]\n",
    "x, y = np.random.multivariate_normal(mean, cov, 1000).T\n",
    "sns.jointplot(x=x, y=y, kind=\"scatter\")\n",
    "sns.jointplot(x=x, y=y, kind=\"hex\")\n",
    "\n"
   ]
  },
  {
   "cell_type": "markdown",
   "metadata": {},
   "source": [
    "More on dealing with \"overplotting\" here: https://python-graph-gallery.com/134-how-to-avoid-overplotting-with-python/"
   ]
  },
  {
   "cell_type": "markdown",
   "metadata": {},
   "source": [
    "However, note that jointplot is a different type of object and therefore follows different rules when it comes to editing. This is perhaps one of the biggest drawbacks of seaborn.\n",
    "\n",
    "For example, look at how the same change requires different syntax between regplot at jointplot"
   ]
  },
  {
   "cell_type": "code",
   "execution_count": null,
   "metadata": {},
   "outputs": [],
   "source": [
    "sns.regplot(x=pheno['Age'], y=pheno['ToM Booklet-Matched'])\n",
    "plt.xlabel('Participant Age')"
   ]
  },
  {
   "cell_type": "code",
   "execution_count": null,
   "metadata": {},
   "outputs": [],
   "source": [
    "g = sns.jointplot(x=pheno['Age'], y=pheno['ToM Booklet-Matched'],\n",
    "                  kind='scatter')\n",
    "g.ax_joint.set_xlabel('Participant Age')"
   ]
  },
  {
   "cell_type": "markdown",
   "metadata": {},
   "source": [
    "Finally, lmplot() is another nice scatterplot option for observing multivariate interactions.\n",
    "\n",
    "However, lmplot() cannot simply take two arrays as input. Rather (much like R), you must pass lmplot some data (in the form of a pandas DataFrame for example) and variable names. Luckily for us, we already have our data in a pandas DataFrame, so this should be easy.\n",
    "\n",
    "Let's look at how the relationship between Age and Theory of Mind varies by Gender. We can do this using the \"hue\", \"col\" or \"row\" arguments "
   ]
  },
  {
   "cell_type": "code",
   "execution_count": null,
   "metadata": {},
   "outputs": [],
   "source": [
    "sns.lmplot(x='Age', y = 'ToM Booklet-Matched', \n",
    "           data = pheno, hue='Gender')"
   ]
  },
  {
   "cell_type": "markdown",
   "metadata": {},
   "source": [
    "Unfortunately, these plots can be a bit dumb at times. The regplot is perhaps more flexible."
   ]
  },
  {
   "cell_type": "markdown",
   "metadata": {},
   "source": [
    "You can read more about this type of plotting here:\n",
    "\n",
    "https://seaborn.pydata.org/tutorial/distributions.html"
   ]
  },
  {
   "cell_type": "markdown",
   "metadata": {},
   "source": [
    "### Bivariate visualization: Linear x Categorical"
   ]
  },
  {
   "cell_type": "markdown",
   "metadata": {},
   "source": [
    "Let's take a quick look at how to look at bivariate relationships when one variable is categorical and the other is scalar.\n",
    "\n",
    "For consistency can continue to look at the same relationship, but look at \"AgeGroup\" instead of age.\n",
    "\n",
    "There are many ways to visualize such relationships. While there are some advantages and disadvantes of each type of plot, much of the choice will come down to personal preference."
   ]
  },
  {
   "cell_type": "code",
   "execution_count": null,
   "metadata": {
    "collapsed": true
   },
   "outputs": [],
   "source": [
    "sns."
   ]
  },
  {
   "cell_type": "code",
   "execution_count": null,
   "metadata": {},
   "outputs": [],
   "source": [
    "# Here are several ways of visualizing the same relationship\n",
    "# Note that adults to not have cognitive tests, so I will not\n",
    "# include adults in any of these plots. Note also that I\n",
    "# explicitly pass the order of x\n",
    "\n",
    "order = sorted(pheno.AgeGroup.unique())[:-1]\n",
    "\n",
    "sns.barplot(x='AgeGroup', \n",
    "            y = 'ToM Booklet-Matched',\n",
    "            data = pheno[pheno.AgeGroup!='Adult'],\n",
    "            order = order)\n",
    "plt.show()\n",
    "\n",
    "sns.boxplot(x='AgeGroup', \n",
    "            y = 'ToM Booklet-Matched',\n",
    "            data = pheno[pheno.AgeGroup!='Adult'],\n",
    "            order = order)\n",
    "plt.show()\n",
    "\n",
    "# sns.boxenplot(x='AgeGroup', \n",
    "#             y = 'ToM Booklet-Matched',\n",
    "#             data = pheno[pheno.AgeGroup!='Adult'],\n",
    "#             order = order)\n",
    "# plt.show()\n",
    "\n",
    "sns.lvplot(x='AgeGroup', \n",
    "            y = 'ToM Booklet-Matched',\n",
    "            data = pheno[pheno.AgeGroup!='Adult'],\n",
    "            order = order)\n",
    "\n",
    "sns.violinplot(x='AgeGroup', \n",
    "            y = 'ToM Booklet-Matched',\n",
    "            data = pheno[pheno.AgeGroup!='Adult'],\n",
    "            order = order)\n",
    "plt.show()\n",
    "\n",
    "sns.stripplot(x='AgeGroup', jitter=True,\n",
    "            y = 'ToM Booklet-Matched',\n",
    "            data = pheno[pheno.AgeGroup!='Adult'],\n",
    "            order = order)\n",
    "plt.show()\n",
    "\n",
    "sns.pointplot(x='AgeGroup', \n",
    "            y = 'ToM Booklet-Matched',\n",
    "            data = pheno[pheno.AgeGroup!='Adult'],\n",
    "            order = order)\n",
    "plt.show()"
   ]
  },
  {
   "cell_type": "markdown",
   "metadata": {},
   "source": [
    "Generally, line plots and barplots are frowned upon because they do not show the actual data, and therefore can mask troublesome distributions and outliers. \n",
    "\n",
    "But perhaps you're really into barplots? No problem! One nice thing about many seaborn plots is that they can be overlaid very easily. Just call two plots at once before doing plt.show() (or in this case, before running the cell). Just overlay a stripplot on top!"
   ]
  },
  {
   "cell_type": "code",
   "execution_count": null,
   "metadata": {},
   "outputs": [],
   "source": [
    "sns.barplot(x='AgeGroup', \n",
    "            y = 'ToM Booklet-Matched',\n",
    "            data = pheno[pheno.AgeGroup!='Adult'],\n",
    "            order = order, palette='Blues')\n",
    "\n",
    "sns.stripplot(x='AgeGroup', \n",
    "            y = 'ToM Booklet-Matched',\n",
    "            data = pheno[pheno.AgeGroup!='Adult'],\n",
    "            jitter=True,\n",
    "            order = order, color = 'black')"
   ]
  },
  {
   "cell_type": "markdown",
   "metadata": {},
   "source": [
    "You can find more info on these types of plots here:\n",
    "\n",
    "https://seaborn.pydata.org/tutorial/categorical.html\n",
    "\n",
    "Having trouble deciding which type of plot you want to use? Checkout the raincloud plot, which combines multiple types of plots to achieve a highly empirical visualization.\n",
    "\n",
    "![raincloud](https://wellcomeopenresearch.s3.amazonaws.com/manuscripts/16574/5019bc28-6d22-4161-958e-49d66f5eef1f_figure3.gif)\n",
    "\n",
    "\n",
    "Read more about it here:\n",
    "https://wellcomeopenresearch.org/articles/4-63/v1?src=rss\n",
    "\n"
   ]
  },
  {
   "cell_type": "markdown",
   "metadata": {},
   "source": [
    "### Bivariate visualization: Categorical x Categorical"
   ]
  },
  {
   "cell_type": "markdown",
   "metadata": {},
   "source": [
    "What if we want to observe the relationship between two categorical variables? Since we are usually just looking at counts or percentages, a simple barplot is fine in this case.\n",
    "\n",
    "Let's look at AgeGroup x Gender. Pandas.crosstab helps sort the data in an intuitive way. "
   ]
  },
  {
   "cell_type": "code",
   "execution_count": null,
   "metadata": {},
   "outputs": [],
   "source": [
    "pandas.crosstab(index=pheno['AgeGroup'],\n",
    "                columns=pheno['Gender'],)"
   ]
  },
  {
   "cell_type": "markdown",
   "metadata": {},
   "source": [
    "We can actually plot this directly from pandas."
   ]
  },
  {
   "cell_type": "code",
   "execution_count": null,
   "metadata": {},
   "outputs": [],
   "source": [
    "pandas.crosstab(index=pheno['AgeGroup'],\n",
    "                columns=pheno['Gender'],).plot.bar()"
   ]
  },
  {
   "cell_type": "markdown",
   "metadata": {},
   "source": [
    "The above plot gives us absolute counts. Perhaps we'd rather visualize differences in proportion across age groups. Unfortunately we must do this manually."
   ]
  },
  {
   "cell_type": "code",
   "execution_count": null,
   "metadata": {},
   "outputs": [],
   "source": [
    "crosstab = pandas.crosstab(index=pheno['AgeGroup'],\n",
    "                columns=pheno['Gender'],)\n",
    "\n",
    "crosstab.apply(lambda r: r/r.sum(), axis=1).plot.bar()\n"
   ]
  },
  {
   "cell_type": "markdown",
   "metadata": {
    "collapsed": true
   },
   "source": [
    "### Style points"
   ]
  },
  {
   "cell_type": "markdown",
   "metadata": {},
   "source": [
    "You will be surprised to find out exactly how customizable your python plots are. Its not so important when you're first exploring your data, but aesthetic value can add a lot to visualizations you are communicating in the form of manuscripts, posters and talks.\n",
    "\n",
    "Once you know the relationships you want to plot, spend time adjusting the colors, layout, and fine details of your plot to maximize interpretability, transparency, and if you can spare it, beauty!\n",
    "\n",
    "You can easily edit colors using many matplotlib and python arguments, often listed as col, color, or palette. "
   ]
  },
  {
   "cell_type": "code",
   "execution_count": null,
   "metadata": {},
   "outputs": [],
   "source": [
    "## try uncommenting one of these lines at a time to see how the \n",
    "## graph changes\n",
    "\n",
    "sns.boxplot(x='AgeGroup', \n",
    "            y = 'ToM Booklet-Matched',\n",
    "            data = pheno[pheno.AgeGroup!='Adult'],\n",
    "            order = order, \n",
    "            #palette = 'Greens_d'\n",
    "            #palette = 'spectral',\n",
    "            #color = 'black'\n",
    "           )"
   ]
  },
  {
   "cell_type": "markdown",
   "metadata": {},
   "source": [
    "You can find more about your palette choices here: https://matplotlib.org/3.1.0/tutorials/colors/colormaps.html.\n",
    "\n",
    "More about your color choices here:\n",
    "https://matplotlib.org/3.1.0/gallery/color/named_colors.html"
   ]
  },
  {
   "cell_type": "markdown",
   "metadata": {},
   "source": [
    "You can also easily change the style of the plots by setting \"style\" or \"context\""
   ]
  },
  {
   "cell_type": "code",
   "execution_count": null,
   "metadata": {},
   "outputs": [],
   "source": [
    "sns.set_style('whitegrid')\n",
    "sns.boxplot(x='AgeGroup', \n",
    "            y = 'ToM Booklet-Matched',\n",
    "            data = pheno[pheno.AgeGroup!='Adult'],\n",
    "            order = order, \n",
    "           )"
   ]
  },
  {
   "cell_type": "code",
   "execution_count": null,
   "metadata": {},
   "outputs": [],
   "source": [
    "sns.set_context('notebook',font_scale=2)\n",
    "sns.boxplot(x='AgeGroup', \n",
    "            y = 'ToM Booklet-Matched',\n",
    "            data = pheno[pheno.AgeGroup!='Adult'],\n",
    "            order = order, \n",
    "           )"
   ]
  },
  {
   "cell_type": "markdown",
   "metadata": {},
   "source": [
    "Notice these changes do not reset after the plot is shown. To learn more about controlling figure aesthetics, as well as how to produce temporary style changes, visit here:\n",
    "\n",
    "https://seaborn.pydata.org/tutorial/aesthetics.html"
   ]
  },
  {
   "cell_type": "markdown",
   "metadata": {},
   "source": [
    "Finally, remember that these plots are extremely customizable. Literally every aspect can be changed. Once you know the relationship you want to plot, don't be afraid to spend a good chunk of time tweaking your plot to perfection"
   ]
  },
  {
   "cell_type": "code",
   "execution_count": null,
   "metadata": {},
   "outputs": [],
   "source": [
    "# set style\n",
    "sns.set_style('white')\n",
    "sns.set_context('notebook',font_scale=2)\n",
    "\n",
    "# set figure size\n",
    "plt.subplots(figsize=(7,5))\n",
    "\n",
    "g = sns.boxplot(x='AgeGroup', \n",
    "            y = 'ToM Booklet-Matched',\n",
    "            hue = 'Gender',\n",
    "            data = pheno[pheno.AgeGroup!='Adult'],\n",
    "            order = order, \n",
    "           palette = 'viridis')\n",
    "\n",
    "# Change X axis\n",
    "new_xtics = ['Age 3','Age 4','Age 5', 'Age 7', 'Age 8-12']\n",
    "g.set_xticklabels(new_xtics, rotation=90)\n",
    "g.set_xlabel('Age')\n",
    "\n",
    "# Change Y axis\n",
    "g.set_ylabel('Theory of Mind')\n",
    "g.set_yticks([0,.2,.4,.6,.8,1,1.2])\n",
    "g.set_ylim(0,1.2)\n",
    "\n",
    "# Title\n",
    "g.set_title('Age vs Theory of Mind')\n",
    "\n",
    "# Add some text\n",
    "g.text(2.5,0.2,'F = large #')\n",
    "g.text(2.5,0.05,'p = small #')\n",
    "\n",
    "# Add significance bars and asterisks\n",
    "plt.plot([0,0, 4, 4], \n",
    "         [1.1, 1.1, 1.1, 1.1], \n",
    "         linewidth=2, color='k')\n",
    "plt.text(2,1.08,'*')\n",
    "\n",
    "# Move figure legend outside of plot\n",
    "\n",
    "plt.legend(bbox_to_anchor=(1.05, 1), loc=2, borderaxespad=0.)"
   ]
  },
  {
   "cell_type": "markdown",
   "metadata": {},
   "source": [
    "That's all for now. There's so much more to visualization, but this should at least get you started."
   ]
  },
  {
   "cell_type": "markdown",
   "metadata": {},
   "source": [
    "#### Recommended reading:\n",
    "\n",
    "multidimensional plotting with seaborn: https://jovianlin.io/data-visualization-seaborn-part-3/\n",
    "\n",
    "Great resource for complicated plots, creative ideas, and data!: https://python-graph-gallery.com/\n",
    "\n",
    "A few don'ts of plotting: https://www.data-to-viz.com/caveats.html"
   ]
  },
  {
   "cell_type": "code",
   "execution_count": null,
   "metadata": {
    "collapsed": true
   },
   "outputs": [],
   "source": []
  }
 ],
 "metadata": {
  "kernelspec": {
   "display_name": "Python 3",
   "language": "python",
   "name": "python3"
  },
  "language_info": {
   "codemirror_mode": {
    "name": "ipython",
    "version": 3
   },
   "file_extension": ".py",
   "mimetype": "text/x-python",
   "name": "python",
   "nbconvert_exporter": "python",
   "pygments_lexer": "ipython3",
   "version": "3.6.1"
  }
 },
 "nbformat": 4,
 "nbformat_minor": 2
}
